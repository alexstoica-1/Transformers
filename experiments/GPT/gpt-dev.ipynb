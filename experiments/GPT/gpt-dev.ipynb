{
 "cells": [
  {
   "cell_type": "code",
   "execution_count": 5,
   "id": "c9e8d98f",
   "metadata": {},
   "outputs": [],
   "source": [
    "import requests \n",
    "\n",
    "url = \"https://raw.githubusercontent.com/karpathy/char-rnn/master/data/tinyshakespeare/input.txt\"\n",
    "response = requests.get(url)\n",
    "\n",
    "text = response.text\n",
    "\n",
    "with open('input.txt', 'w', encoding= 'utf-8') as f:\n",
    "    f.write(response.text)"
   ]
  },
  {
   "cell_type": "code",
   "execution_count": 6,
   "id": "61637e63",
   "metadata": {},
   "outputs": [
    {
     "name": "stdout",
     "output_type": "stream",
     "text": [
      "The length of the dataset is : 1115394.\n"
     ]
    }
   ],
   "source": [
    "print(f\"The length of the dataset is : {len(text)}.\")"
   ]
  },
  {
   "cell_type": "code",
   "execution_count": 10,
   "id": "24dfdc9f",
   "metadata": {},
   "outputs": [
    {
     "name": "stdout",
     "output_type": "stream",
     "text": [
      "First Citizen:\n",
      "Before we proceed any further, hear me speak.\n",
      "\n",
      "All:\n",
      "Speak, speak.\n",
      "\n",
      "First Citizen:\n",
      "You are all resolved rather to die than to famish?\n",
      "\n",
      "All:\n",
      "Resolved. resolved.\n",
      "\n",
      "First Citizen:\n",
      "First, you know Caius Marcius is chief enemy to the people.\n",
      "\n",
      "All:\n",
      "We know't, we know't.\n",
      "\n",
      "First Citizen:\n",
      "Let us\n"
     ]
    }
   ],
   "source": [
    "print(text[:300])"
   ]
  },
  {
   "cell_type": "code",
   "execution_count": null,
   "id": "ca2ec085",
   "metadata": {},
   "outputs": [
    {
     "name": "stdout",
     "output_type": "stream",
     "text": [
      "\n",
      " !$&',-.3:;?ABCDEFGHIJKLMNOPQRSTUVWXYZabcdefghijklmnopqrstuvwxyz\n",
      "Size: 65\n"
     ]
    }
   ],
   "source": [
    "chars = sorted(list(set(text))) # all the unique characters\n",
    "vocab_size = len(chars)\n",
    "\n",
    "print(\"\".join(chars))\n",
    "print(\"Size:\", vocab_size)"
   ]
  },
  {
   "cell_type": "code",
   "execution_count": 14,
   "id": "7e9d5395",
   "metadata": {},
   "outputs": [
    {
     "name": "stdout",
     "output_type": "stream",
     "text": [
      "[20, 63, 63, 1, 58, 46, 43, 56, 43, 2]\n",
      "Hyy there\n"
     ]
    }
   ],
   "source": [
    "# Tokenization\n",
    "# Convert the raw text to some sequence of integers \n",
    "# Here, characters into integers\n",
    "\n",
    "stoi = {ch:i for i, ch in enumerate(chars)}\n",
    "itos = {i:ch for i, ch in enumerate(chars)}\n",
    "encode = lambda s: [stoi[c] for c in s] # output is a list\n",
    "decode = lambda l: ''.join([itos[i] for i in l]) # output is the initial string\n",
    "\n",
    "print(encode(\"Hyy there!\"))\n",
    "print(decode(encode(\"Hyy there\")))"
   ]
  },
  {
   "cell_type": "code",
   "execution_count": 15,
   "id": "cc3b28ea",
   "metadata": {},
   "outputs": [
    {
     "name": "stdout",
     "output_type": "stream",
     "text": [
      "torch.Size([1115394]) torch.int64\n",
      "tensor([18, 47, 56, 57, 58,  1, 15, 47, 58, 47, 64, 43, 52, 10,  0, 14, 43, 44,\n",
      "        53, 56, 43,  1, 61, 43,  1, 54, 56, 53, 41, 43, 43, 42,  1, 39, 52, 63,\n",
      "         1, 44, 59, 56, 58, 46, 43, 56,  6,  1, 46, 43, 39, 56,  1, 51, 43,  1,\n",
      "        57, 54, 43, 39, 49,  8,  0,  0, 13, 50, 50, 10,  0, 31, 54, 43, 39, 49,\n",
      "         6,  1, 57, 54, 43, 39, 49,  8,  0,  0, 18, 47, 56, 57, 58,  1, 15, 47,\n",
      "        58, 47, 64, 43, 52, 10,  0, 37, 53, 59,  1, 39, 56, 43,  1, 39, 50, 50,\n",
      "         1, 56, 43, 57, 53, 50, 60, 43, 42,  1, 56, 39, 58, 46, 43, 56,  1, 58,\n",
      "        53,  1, 42, 47, 43,  1, 58, 46, 39, 52,  1, 58, 53,  1, 44, 39, 51, 47,\n",
      "        57, 46, 12,  0,  0, 13, 50, 50, 10,  0, 30, 43, 57, 53, 50, 60, 43, 42,\n",
      "         8,  1, 56, 43, 57, 53, 50, 60, 43, 42,  8,  0,  0, 18, 47, 56, 57, 58,\n",
      "         1, 15, 47, 58, 47, 64, 43, 52, 10,  0, 18, 47, 56, 57, 58,  6,  1, 63,\n",
      "        53, 59,  1, 49, 52, 53, 61,  1, 15, 39, 47, 59, 57,  1, 25, 39, 56, 41,\n",
      "        47, 59, 57,  1, 47, 57,  1, 41, 46, 47, 43, 44,  1, 43, 52, 43, 51, 63,\n",
      "         1, 58, 53,  1, 58, 46, 43,  1, 54, 43, 53, 54, 50, 43,  8,  0,  0, 13,\n",
      "        50, 50, 10,  0, 35, 43,  1, 49, 52, 53, 61,  5, 58,  6,  1, 61, 43,  1,\n",
      "        49, 52, 53, 61,  5, 58,  8,  0,  0, 18, 47, 56, 57, 58,  1, 15, 47, 58,\n",
      "        47, 64, 43, 52, 10,  0, 24, 43, 58,  1, 59, 57])\n"
     ]
    }
   ],
   "source": [
    "import torch\n",
    "\n",
    "data = torch.tensor(encode(text), dtype = torch.long)\n",
    "\n",
    "print(data.shape, data.dtype)\n",
    "print(data[:300])"
   ]
  },
  {
   "cell_type": "code",
   "execution_count": 16,
   "id": "02ac7a55",
   "metadata": {},
   "outputs": [],
   "source": [
    "# split the data into train and validation \n",
    "\n",
    "n = int(0.9 * len(data))\n",
    "train_data = data[:n]\n",
    "val_data = data[n:]"
   ]
  },
  {
   "cell_type": "code",
   "execution_count": null,
   "id": "90b6cad3",
   "metadata": {},
   "outputs": [
    {
     "data": {
      "text/plain": [
       "tensor([18, 47, 56, 57, 58,  1, 15, 47, 58])"
      ]
     },
     "execution_count": 17,
     "metadata": {},
     "output_type": "execute_result"
    }
   ],
   "source": [
    "block_size = 8 # context length\n",
    "train_data[:block_size + 1] # it predicts each number one by one"
   ]
  },
  {
   "cell_type": "code",
   "execution_count": null,
   "id": "a4272adf",
   "metadata": {},
   "outputs": [
    {
     "name": "stdout",
     "output_type": "stream",
     "text": [
      "When input is tensor([18]), the target is 47.\n",
      "When input is tensor([18, 47]), the target is 56.\n",
      "When input is tensor([18, 47, 56]), the target is 57.\n",
      "When input is tensor([18, 47, 56, 57]), the target is 58.\n",
      "When input is tensor([18, 47, 56, 57, 58]), the target is 1.\n",
      "When input is tensor([18, 47, 56, 57, 58,  1]), the target is 15.\n",
      "When input is tensor([18, 47, 56, 57, 58,  1, 15]), the target is 47.\n",
      "When input is tensor([18, 47, 56, 57, 58,  1, 15, 47]), the target is 58.\n"
     ]
    }
   ],
   "source": [
    "# we would like the transformer to see everything up to block_size\n",
    "\n",
    "x = train_data[:block_size]\n",
    "y = train_data[1:block_size + 1]\n",
    "\n",
    "for t in range(block_size):\n",
    "    context = x[:t+1]\n",
    "    target = y[t]\n",
    "    print(f\"When input is {context}, the target is {target}.\")"
   ]
  },
  {
   "cell_type": "code",
   "execution_count": null,
   "id": "5d7cd11a",
   "metadata": {},
   "outputs": [
    {
     "name": "stdout",
     "output_type": "stream",
     "text": [
      "Inputs: \n",
      " torch.Size([4, 8]).\n",
      "tensor([[57,  1, 46, 47, 57,  1, 50, 53],\n",
      "        [ 1, 58, 46, 43, 56, 43,  1, 41],\n",
      "        [17, 26, 15, 17, 10,  0, 32, 53],\n",
      "        [57, 58,  6,  1, 61, 47, 58, 46]])\n",
      "Targets: \n",
      " torch.Size([4, 8]).\n",
      "tensor([[ 1, 46, 47, 57,  1, 50, 53, 60],\n",
      "        [58, 46, 43, 56, 43,  1, 41, 39],\n",
      "        [26, 15, 17, 10,  0, 32, 53,  1],\n",
      "        [58,  6,  1, 61, 47, 58, 46,  0]])\n",
      "\n",
      "When input is [57], the target is 1.\n",
      "When input is [57, 1], the target is 46.\n",
      "When input is [57, 1, 46], the target is 47.\n",
      "When input is [57, 1, 46, 47], the target is 57.\n",
      "When input is [57, 1, 46, 47, 57], the target is 1.\n",
      "When input is [57, 1, 46, 47, 57, 1], the target is 50.\n",
      "When input is [57, 1, 46, 47, 57, 1, 50], the target is 53.\n",
      "When input is [57, 1, 46, 47, 57, 1, 50, 53], the target is 60.\n",
      "When input is [1], the target is 58.\n",
      "When input is [1, 58], the target is 46.\n",
      "When input is [1, 58, 46], the target is 43.\n",
      "When input is [1, 58, 46, 43], the target is 56.\n",
      "When input is [1, 58, 46, 43, 56], the target is 43.\n",
      "When input is [1, 58, 46, 43, 56, 43], the target is 1.\n",
      "When input is [1, 58, 46, 43, 56, 43, 1], the target is 41.\n",
      "When input is [1, 58, 46, 43, 56, 43, 1, 41], the target is 39.\n",
      "When input is [17], the target is 26.\n",
      "When input is [17, 26], the target is 15.\n",
      "When input is [17, 26, 15], the target is 17.\n",
      "When input is [17, 26, 15, 17], the target is 10.\n",
      "When input is [17, 26, 15, 17, 10], the target is 0.\n",
      "When input is [17, 26, 15, 17, 10, 0], the target is 32.\n",
      "When input is [17, 26, 15, 17, 10, 0, 32], the target is 53.\n",
      "When input is [17, 26, 15, 17, 10, 0, 32, 53], the target is 1.\n",
      "When input is [57], the target is 58.\n",
      "When input is [57, 58], the target is 6.\n",
      "When input is [57, 58, 6], the target is 1.\n",
      "When input is [57, 58, 6, 1], the target is 61.\n",
      "When input is [57, 58, 6, 1, 61], the target is 47.\n",
      "When input is [57, 58, 6, 1, 61, 47], the target is 58.\n",
      "When input is [57, 58, 6, 1, 61, 47, 58], the target is 46.\n",
      "When input is [57, 58, 6, 1, 61, 47, 58, 46], the target is 0.\n"
     ]
    }
   ],
   "source": [
    "torch.manual_seed(42)\n",
    "batch_size = 4 # how many independent sequences we are processing every pass of the transformer\n",
    "block_size = 8 # the maximum context length \n",
    "\n",
    "def get_batch(split):\n",
    "    data = train_data if split == 'train' else val_data\n",
    "    ix = torch.randint(len(data) - block_size, (batch_size,)) # generate random positions to grab a chunk out of\n",
    "    x = torch.stack([data[i: i+block_size] for i in ix]) # we stack all the one dimensional tensors that are found at random positions (ROWS)\n",
    "    y = torch.stack([data[i+1: i+block_size+1] for i in ix])\n",
    "    return x,y\n",
    "\n",
    "xb, yb = get_batch('train')\n",
    "print(f\"Inputs: \\n {xb.shape}.\")\n",
    "print(xb)\n",
    "print(f\"Targets: \\n {yb.shape}.\")\n",
    "print(yb)\n",
    "print()\n",
    "\n",
    "for b in range(batch_size):\n",
    "    for t in range(block_size):\n",
    "        context = xb[b, :t+1] # batch b and everything until the time t\n",
    "        target = yb[b,t]\n",
    "        print(f\"When input is {context.tolist()}, the target is {target}.\")"
   ]
  },
  {
   "cell_type": "code",
   "execution_count": 31,
   "id": "e5d1efe6",
   "metadata": {},
   "outputs": [
    {
     "name": "stdout",
     "output_type": "stream",
     "text": [
      "torch.Size([32, 65])\n",
      "tensor(4.7352, grad_fn=<NllLossBackward0>)\n",
      "\n",
      "B'jCfNehCzjLtOvZf!VOiO&?,Kt-3PvJGFCvXe?eqEl\n",
      "t-bz&hMabtWT\n",
      ";qfCDkBpGKEgToJAuxzqflZrxZ-&jDGmtfx$rPXfE.K\n"
     ]
    }
   ],
   "source": [
    "import torch\n",
    "import torch.nn as nn\n",
    "from torch.nn import functional as F\n",
    "\n",
    "# It is a Bigram model that is using the Markov assumption\n",
    "class BigramLanguageModel(nn.Module):\n",
    "    def __init__(self, vocab_size):\n",
    "        super().__init__()\n",
    "        self.token_embedding_table = nn.Embedding(vocab_size, vocab_size)\n",
    "\n",
    "    def forward(self, idx, targets = None):\n",
    "        logits = self.token_embedding_table(idx) # tensor (batch, time, channel) \n",
    "\n",
    "        if targets == None:\n",
    "            loss = None \n",
    "        else:\n",
    "            B, T, C = logits.shape\n",
    "            logits = logits.view(B*T, C)\n",
    "            targets = targets.view(B*T)\n",
    "            loss = F.cross_entropy(logits, targets)\n",
    "\n",
    "        return logits, loss\n",
    "    \n",
    "    def generate(self, idx, max_new_tokens):\n",
    "        # idx is (B, T)\n",
    "        for _ in range(max_new_tokens):\n",
    "            logits, _ = self(idx) # calls the forward method \n",
    "            logits = logits[:, -1, :] # (B, C)\n",
    "            probs = F.softmax(logits, dim = 1)\n",
    "            # sample from the distribution\n",
    "            idx_next = torch.multinomial(probs, num_samples = 1) # (B, 1)\n",
    "            idx = torch.cat((idx, idx_next), dim = 1) # (B, T+1)\n",
    "        \n",
    "        return idx\n",
    "    \n",
    "model = BigramLanguageModel(vocab_size)\n",
    "logits, loss = model(xb, yb)\n",
    "print(logits.shape)\n",
    "print(loss)\n",
    "\n",
    "idx = torch.zeros((1,1), dtype = torch.long)\n",
    "print(decode(model.generate(idx = idx, max_new_tokens = 100)[0].tolist()))"
   ]
  }
 ],
 "metadata": {
  "kernelspec": {
   "display_name": "GPT",
   "language": "python",
   "name": "python3"
  },
  "language_info": {
   "codemirror_mode": {
    "name": "ipython",
    "version": 3
   },
   "file_extension": ".py",
   "mimetype": "text/x-python",
   "name": "python",
   "nbconvert_exporter": "python",
   "pygments_lexer": "ipython3",
   "version": "3.13.7"
  }
 },
 "nbformat": 4,
 "nbformat_minor": 5
}
